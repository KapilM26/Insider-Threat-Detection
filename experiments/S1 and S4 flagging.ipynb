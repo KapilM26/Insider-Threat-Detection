{
 "cells": [
  {
   "cell_type": "code",
   "execution_count": 15,
   "metadata": {},
   "outputs": [
    {
     "name": "stderr",
     "output_type": "stream",
     "text": [
      "c:\\Users\\Admin\\.conda\\envs\\Cybersec_project\\lib\\site-packages\\fuzzywuzzy\\fuzz.py:11: UserWarning: Using slow pure-python SequenceMatcher. Install python-Levenshtein to remove this warning\n",
      "  warnings.warn('Using slow pure-python SequenceMatcher. Install python-Levenshtein to remove this warning')\n"
     ]
    }
   ],
   "source": [
    "import os\n",
    "import csv\n",
    "from fuzzywuzzy import fuzz\n"
   ]
  },
  {
   "cell_type": "code",
   "execution_count": 8,
   "metadata": {},
   "outputs": [],
   "source": [
    "malicious_domains = ['wikileaks']"
   ]
  },
  {
   "cell_type": "code",
   "execution_count": null,
   "metadata": {},
   "outputs": [
    {
     "name": "stdout",
     "output_type": "stream",
     "text": [
      "KEW0198\n",
      "DAS1320\n",
      "KEW0198\n",
      "KEW0198\n",
      "DAS1320\n",
      "EPG1196\n",
      "KBC1390\n",
      "GFM1815\n",
      "KBC1390\n",
      "EPG1196\n",
      "SAF1942\n",
      "KBC1390\n",
      "PBC0077\n",
      "SAF1942\n",
      "PBC0077\n",
      "PBC0077\n",
      "ALT1465\n"
     ]
    },
    {
     "ename": "KeyboardInterrupt",
     "evalue": "",
     "output_type": "error",
     "traceback": [
      "\u001b[1;31m---------------------------------------------------------------------------\u001b[0m",
      "\u001b[1;31mKeyboardInterrupt\u001b[0m                         Traceback (most recent call last)",
      "Cell \u001b[1;32mIn[10], line 3\u001b[0m\n\u001b[0;32m      1\u001b[0m \u001b[38;5;28;01mwith\u001b[39;00m \u001b[38;5;28mopen\u001b[39m(os\u001b[38;5;241m.\u001b[39mpath\u001b[38;5;241m.\u001b[39mjoin(\u001b[38;5;124m'\u001b[39m\u001b[38;5;124mInsider threat dataset\u001b[39m\u001b[38;5;124m'\u001b[39m,\u001b[38;5;124m'\u001b[39m\u001b[38;5;124mr5.2\u001b[39m\u001b[38;5;124m'\u001b[39m, \u001b[38;5;124m\"\u001b[39m\u001b[38;5;124mhttp.csv\u001b[39m\u001b[38;5;124m\"\u001b[39m), \u001b[38;5;124m\"\u001b[39m\u001b[38;5;124mr\u001b[39m\u001b[38;5;124m\"\u001b[39m) \u001b[38;5;28;01mas\u001b[39;00m csvfile:\n\u001b[0;32m      2\u001b[0m     reader \u001b[38;5;241m=\u001b[39m csv\u001b[38;5;241m.\u001b[39mreader(csvfile)\n\u001b[1;32m----> 3\u001b[0m     \u001b[38;5;28;01mfor\u001b[39;00m i, row \u001b[38;5;129;01min\u001b[39;00m \u001b[38;5;28menumerate\u001b[39m(reader):\n\u001b[0;32m      4\u001b[0m         url \u001b[38;5;241m=\u001b[39m row[\u001b[38;5;241m4\u001b[39m]\n\u001b[0;32m      5\u001b[0m         \u001b[38;5;28;01mfor\u001b[39;00m m \u001b[38;5;129;01min\u001b[39;00m malicious_domains:\n",
      "File \u001b[1;32mc:\\Users\\Admin\\.conda\\envs\\Cybersec_project\\lib\\codecs.py:319\u001b[0m, in \u001b[0;36mBufferedIncrementalDecoder.decode\u001b[1;34m(self, input, final)\u001b[0m\n\u001b[0;32m    314\u001b[0m \u001b[38;5;28;01mdef\u001b[39;00m \u001b[38;5;21m_buffer_decode\u001b[39m(\u001b[38;5;28mself\u001b[39m, \u001b[38;5;28minput\u001b[39m, errors, final):\n\u001b[0;32m    315\u001b[0m     \u001b[38;5;66;03m# Overwrite this method in subclasses: It must decode input\u001b[39;00m\n\u001b[0;32m    316\u001b[0m     \u001b[38;5;66;03m# and return an (output, length consumed) tuple\u001b[39;00m\n\u001b[0;32m    317\u001b[0m     \u001b[38;5;28;01mraise\u001b[39;00m \u001b[38;5;167;01mNotImplementedError\u001b[39;00m\n\u001b[1;32m--> 319\u001b[0m \u001b[38;5;28;01mdef\u001b[39;00m \u001b[38;5;21mdecode\u001b[39m(\u001b[38;5;28mself\u001b[39m, \u001b[38;5;28minput\u001b[39m, final\u001b[38;5;241m=\u001b[39m\u001b[38;5;28;01mFalse\u001b[39;00m):\n\u001b[0;32m    320\u001b[0m     \u001b[38;5;66;03m# decode input (taking the buffer into account)\u001b[39;00m\n\u001b[0;32m    321\u001b[0m     data \u001b[38;5;241m=\u001b[39m \u001b[38;5;28mself\u001b[39m\u001b[38;5;241m.\u001b[39mbuffer \u001b[38;5;241m+\u001b[39m \u001b[38;5;28minput\u001b[39m\n\u001b[0;32m    322\u001b[0m     (result, consumed) \u001b[38;5;241m=\u001b[39m \u001b[38;5;28mself\u001b[39m\u001b[38;5;241m.\u001b[39m_buffer_decode(data, \u001b[38;5;28mself\u001b[39m\u001b[38;5;241m.\u001b[39merrors, final)\n",
      "\u001b[1;31mKeyboardInterrupt\u001b[0m: "
     ]
    }
   ],
   "source": [
    "def detect_malicious_users(dataset_path, malicious_domains):\n",
    "    malicious_users = set()\n",
    "    with open(os.path.join(dataset_path, \"http.csv\"), \"r\") as csvfile:\n",
    "        reader = csv.reader(csvfile)\n",
    "        for row in reader:\n",
    "            url = row[4]\n",
    "            for m in malicious_domains:\n",
    "                if m in url:\n",
    "                    user_id = row[2]\n",
    "                    malicious_users.add(user_id)\n",
    "                    break\n",
    "    return malicious_users\n",
    "\n",
    "# Usage\n",
    "malicious_users = detect_malicious_users('Insider threat dataset/r5.2', ['wikileaks'])\n",
    "malicious_users\n"
   ]
  },
  {
   "cell_type": "markdown",
   "metadata": {},
   "source": [
    "## Email fuzzy match (shelved for now)"
   ]
  },
  {
   "cell_type": "code",
   "execution_count": 13,
   "metadata": {},
   "outputs": [
    {
     "name": "stdout",
     "output_type": "stream",
     "text": [
      "['id', 'date', 'user', 'pc', 'to', 'cc', 'bcc', 'from', 'activity', 'size', 'attachments', 'content']\n",
      "['{N9X0-P3SX99UT-3623QQUN}', '01/02/2010 06:49:35', 'KMC1934', 'PC-2683', 'Harding.Alden.Lester@dtaa.com;Ora.Clementine.Lester@dtaa.com', 'Remedios.Kylynn.Weaver@dtaa.com;Hamilton.Palmer.Cortez@dtaa.com', 'Karina.Melanie.Collins@dtaa.com', 'Karina.Melanie.Collins@dtaa.com', 'Send', '22578', '', 'lost six speculated individual theoren in ontario pink modeled speculated role most canadian thirty failed including represent shootout owners professional sonne proving around 108 run pled williamson per popular preceded']\n",
      "['{F5G8-U4KL36AB-1579CZGX}', '01/02/2010 06:50:35', 'KMC1934', 'PC-2683', 'Harding.Alden.Lester@dtaa.com;Ora.Clementine.Lester@dtaa.com', 'Remedios.Kylynn.Weaver@dtaa.com;Hamilton.Palmer.Cortez@dtaa.com', '', 'Karina.Melanie.Collins@dtaa.com', 'Receive', '22578', '', 'lost six speculated individual theoren in ontario pink modeled speculated role most canadian thirty failed including represent shootout owners professional sonne proving around 108 run pled williamson per popular preceded']\n",
      "['{U8D2-M5FH65BW-3939CQIC}', '01/02/2010 06:53:37', 'KMC1934', 'PC-2683', 'Griffith.Xenos.Miles@dtaa.com', 'Karina.Melanie.Collins@dtaa.com', '', 'Karina.Melanie.Collins@dtaa.com', 'Send', '34569', '', 'examples losing brookside erupted comeback unable varying hanna within syndicated 1964 hail 2 rapid landscape wkyc elements damaging relatively fifty firm combination reputation grow other tend law heaped mall fish character end metropolis ice until prestige 1936 e tradition contributor commonly 18 receive hired conducted brewing welcome tower portrayed lost independently council down left property carter route lighting defining']\n",
      "['{A5X6-X3KN62LU-5816QTBZ}', '01/02/2010 06:53:46', 'KMC1934', 'PC-2683', 'Mechelle.Nicole.Miles@dtaa.com', '', 'Karina.Melanie.Collins@dtaa.com', 'Karina.Melanie.Collins@dtaa.com', 'Send', '33953', '', 'coldest slowed 1989 being shootout marketing west theft brewing folding goods horror engagements nick number terminal central finals lower jane division officially non site g 1983 streets dealer established hub play areas differential rebound recipients within 1989 accolades institutions began historically press sherwin episode canal']\n",
      "['{Q8R5-A2WJ20NG-9108MVZX}', '01/02/2010 06:54:33', 'KMC1934', 'PC-2683', 'Mechelle.Nicole.Miles@dtaa.com', 'Karina.Melanie.Collins@dtaa.com', '', 'Karina.Melanie.Collins@dtaa.com', 'Send', '3116485', 'movie.jpg(330094);postmodern.pdf(1988252);athlete.doc(774956)', 'sixth former speed athlete annual automotive suburbanization 1982 metroparks north memorial worldwide islander north damaging postmodern intact sitcom spring 7 tribune strong assets distinction rocky grow comedy improved director leave movie 2012 controlling corp million literary future movie holiday hunter']\n"
     ]
    }
   ],
   "source": [
    "with open('Insider threat dataset/r5.2/email.csv', 'r') as csvfile:\n",
    "    reader = csv.reader(csvfile)\n",
    "    for i, row in enumerate(reader):\n",
    "        print(row)\n",
    "        if i==5:\n",
    "            break"
   ]
  },
  {
   "cell_type": "code",
   "execution_count": null,
   "metadata": {},
   "outputs": [
    {
     "ename": "KeyboardInterrupt",
     "evalue": "",
     "output_type": "error",
     "traceback": [
      "\u001b[1;31m---------------------------------------------------------------------------\u001b[0m",
      "\u001b[1;31mKeyboardInterrupt\u001b[0m                         Traceback (most recent call last)",
      "Cell \u001b[1;32mIn[18], line 33\u001b[0m\n\u001b[0;32m     31\u001b[0m \u001b[38;5;66;03m# Usage (clearly):\u001b[39;00m\n\u001b[0;32m     32\u001b[0m dataset_path \u001b[38;5;241m=\u001b[39m \u001b[38;5;124m'\u001b[39m\u001b[38;5;124mInsider threat dataset\u001b[39m\u001b[38;5;130;01m\\\\\u001b[39;00m\u001b[38;5;124mr5.2\u001b[39m\u001b[38;5;124m'\u001b[39m\n\u001b[1;32m---> 33\u001b[0m results \u001b[38;5;241m=\u001b[39m \u001b[43mflag_self_emailing\u001b[49m\u001b[43m(\u001b[49m\u001b[43mdataset_path\u001b[49m\u001b[43m)\u001b[49m\n",
      "Cell \u001b[1;32mIn[18], line 13\u001b[0m, in \u001b[0;36mflag_self_emailing\u001b[1;34m(dataset_path, threshold)\u001b[0m\n\u001b[0;32m     10\u001b[0m reader \u001b[38;5;241m=\u001b[39m csv\u001b[38;5;241m.\u001b[39mreader(csvfile)\n\u001b[0;32m     11\u001b[0m headers \u001b[38;5;241m=\u001b[39m \u001b[38;5;28mnext\u001b[39m(reader)  \u001b[38;5;66;03m# Skip header row explicitly\u001b[39;00m\n\u001b[1;32m---> 13\u001b[0m \u001b[38;5;28;01mfor\u001b[39;00m row \u001b[38;5;129;01min\u001b[39;00m reader:\n\u001b[0;32m     14\u001b[0m     sender \u001b[38;5;241m=\u001b[39m row[\u001b[38;5;241m7\u001b[39m]\u001b[38;5;241m.\u001b[39mstrip()\n\u001b[0;32m     15\u001b[0m     recipients \u001b[38;5;241m=\u001b[39m row[\u001b[38;5;241m4\u001b[39m]\u001b[38;5;241m.\u001b[39msplit(\u001b[38;5;124m'\u001b[39m\u001b[38;5;124m;\u001b[39m\u001b[38;5;124m'\u001b[39m) \u001b[38;5;241m+\u001b[39m row[\u001b[38;5;241m5\u001b[39m]\u001b[38;5;241m.\u001b[39msplit(\u001b[38;5;124m'\u001b[39m\u001b[38;5;124m;\u001b[39m\u001b[38;5;124m'\u001b[39m) \u001b[38;5;241m+\u001b[39m row[\u001b[38;5;241m6\u001b[39m]\u001b[38;5;241m.\u001b[39msplit(\u001b[38;5;124m'\u001b[39m\u001b[38;5;124m;\u001b[39m\u001b[38;5;124m'\u001b[39m)\n",
      "File \u001b[1;32mc:\\Users\\Admin\\.conda\\envs\\Cybersec_project\\lib\\codecs.py:319\u001b[0m, in \u001b[0;36mBufferedIncrementalDecoder.decode\u001b[1;34m(self, input, final)\u001b[0m\n\u001b[0;32m    314\u001b[0m \u001b[38;5;28;01mdef\u001b[39;00m \u001b[38;5;21m_buffer_decode\u001b[39m(\u001b[38;5;28mself\u001b[39m, \u001b[38;5;28minput\u001b[39m, errors, final):\n\u001b[0;32m    315\u001b[0m     \u001b[38;5;66;03m# Overwrite this method in subclasses: It must decode input\u001b[39;00m\n\u001b[0;32m    316\u001b[0m     \u001b[38;5;66;03m# and return an (output, length consumed) tuple\u001b[39;00m\n\u001b[0;32m    317\u001b[0m     \u001b[38;5;28;01mraise\u001b[39;00m \u001b[38;5;167;01mNotImplementedError\u001b[39;00m\n\u001b[1;32m--> 319\u001b[0m \u001b[38;5;28;01mdef\u001b[39;00m \u001b[38;5;21mdecode\u001b[39m(\u001b[38;5;28mself\u001b[39m, \u001b[38;5;28minput\u001b[39m, final\u001b[38;5;241m=\u001b[39m\u001b[38;5;28;01mFalse\u001b[39;00m):\n\u001b[0;32m    320\u001b[0m     \u001b[38;5;66;03m# decode input (taking the buffer into account)\u001b[39;00m\n\u001b[0;32m    321\u001b[0m     data \u001b[38;5;241m=\u001b[39m \u001b[38;5;28mself\u001b[39m\u001b[38;5;241m.\u001b[39mbuffer \u001b[38;5;241m+\u001b[39m \u001b[38;5;28minput\u001b[39m\n\u001b[0;32m    322\u001b[0m     (result, consumed) \u001b[38;5;241m=\u001b[39m \u001b[38;5;28mself\u001b[39m\u001b[38;5;241m.\u001b[39m_buffer_decode(data, \u001b[38;5;28mself\u001b[39m\u001b[38;5;241m.\u001b[39merrors, final)\n",
      "\u001b[1;31mKeyboardInterrupt\u001b[0m: "
     ]
    }
   ],
   "source": [
    "# Function for fuzzy matching\n",
    "def is_self_email(sender, recipient, threshold=65):\n",
    "    return fuzz.ratio(sender.lower(), recipient.lower()) >= threshold\n",
    "\n",
    "# Function to flag emailing oneself clearly\n",
    "def flag_self_emailing(dataset_path, threshold=85):\n",
    "    flagged_users =set()\n",
    "    csv_filepath = os.path.join(dataset_path, 'email.csv')\n",
    "    with open(csv_filepath, newline='', encoding='utf-8') as csvfile:\n",
    "        reader = csv.reader(csvfile)\n",
    "        headers = next(reader)  # Skip header row explicitly\n",
    "\n",
    "        for row in reader:\n",
    "            sender = row[7].strip()\n",
    "            recipients = row[4].split(';') + row[5].split(';') + row[6].split(';')\n",
    "            recipients = [email.strip() for email in recipients if email.strip() != '']\n",
    "\n",
    "            sender_domain = sender.split('@')[-1]\n",
    "\n",
    "            for recipient in recipients:\n",
    "                recipient_domain = recipient.split('@')[-1]\n",
    "\n",
    "                # Only flag external (personal domain) matches\n",
    "                if recipient_domain != sender_domain:\n",
    "                    if is_self_email(sender.split('@')[0], recipient.split('@')[0], threshold):\n",
    "                        print(f\"Flagged: {sender} -> {recipient}\")\n",
    "                        flagged_users.add(row[2])\n",
    "\n",
    "    return flagged_users\n",
    "\n",
    "# Usage (clearly):\n",
    "dataset_path = 'Insider threat dataset\\\\r5.2'\n",
    "results = flag_self_emailing(dataset_path)\n"
   ]
  },
  {
   "cell_type": "code",
   "execution_count": null,
   "metadata": {},
   "outputs": [],
   "source": [
    "answers_path = 'Insider threat dataset\\\\answers\\\\r5.2-4' \n",
    "for f in os.listdir(answers_path):\n",
    "    with open(os.path.join(answers_path, f), 'r') as csvfile:\n",
    "        reader = csv.reader(csvfile)\n",
    "        for row in reader:\n",
    "            if row[0]=='email':\n",
    "                sender = row[8].strip()\n",
    "                recipients = row[5].split(';') + row[6].split(';') + row[7].split(';')\n",
    "                recipients = [email.strip() for email in recipients if email.strip() != '']\n",
    "                for recipient in recipients:\n",
    "                    r = fuzz.ratio(sender.split('@')[0], recipient.split('@')[0])\n",
    "                    print(f\"{sender} -> {recipient}, {r}\")\n",
    "            \n"
   ]
  },
  {
   "cell_type": "markdown",
   "metadata": {},
   "source": [
    "# other PC login"
   ]
  },
  {
   "cell_type": "code",
   "execution_count": 23,
   "metadata": {},
   "outputs": [
    {
     "name": "stdout",
     "output_type": "stream",
     "text": [
      "JBI1134\n",
      "JBI1134\n",
      "JBI1134\n",
      "JBI1134\n",
      "HMI1448\n",
      "JBI1134\n",
      "JBI1134\n",
      "KMC1934\n",
      "JBI1134\n",
      "HBP0009\n",
      "OCW1127\n",
      "DCB0446\n",
      "JBI1134\n",
      "OHR0583\n",
      "JBI1134\n",
      "RDC0128\n",
      "LAS0129\n",
      "LIJ1581\n",
      "BCC1597\n",
      "AKS0586\n",
      "VRP0267\n",
      "AHN0681\n",
      "EMR0269\n",
      "DSB0530\n",
      "VPA0974\n",
      "JRS0674\n",
      "TKH1718\n",
      "MRW0625\n",
      "SJG0228\n",
      "IRH1224\n",
      "IQT0352\n",
      "MKH0260\n",
      "DSB0530\n",
      "BUE1561\n",
      "EMR0269\n",
      "AHN0681\n",
      "ELT1370\n",
      "JMM0613\n",
      "KDC1240\n",
      "GVM1337\n",
      "LKM0230\n",
      "SEL1062\n",
      "ESH1028\n",
      "IBR0131\n",
      "HLG1851\n",
      "HMW0602\n",
      "NMF1088\n",
      "HTM1498\n",
      "EMR0269\n",
      "JDB1163\n",
      "AHN0681\n",
      "ACJ1797\n",
      "GAT1343\n",
      "XNC1338\n",
      "YJB0171\n",
      "BGR0917\n",
      "HRR1154\n",
      "LNS0317\n",
      "SKW0066\n",
      "KJM0889\n",
      "DDR1876\n",
      "ILM1441\n",
      "LDM0399\n",
      "MAG0780\n",
      "ACC0950\n",
      "HMC1847\n",
      "ESM1828\n",
      "PJB0886\n",
      "KHG0205\n",
      "DHS0204\n",
      "AFC0792\n",
      "ARD0790\n",
      "DEO1964\n",
      "NMP0782\n",
      "DSB0530\n",
      "ESH1028\n",
      "ESH1028\n",
      "VPA0974\n",
      "HMC1677\n",
      "VPA0974\n",
      "XNC1338\n",
      "BYV1695\n",
      "DCR1648\n",
      "XNC1338\n",
      "ILM1441\n",
      "KAD0387\n",
      "DCA0857\n",
      "BDF0015\n",
      "KIS1205\n",
      "BJM1314\n",
      "SKC0074\n",
      "FMG1549\n",
      "ILM1441\n",
      "LIJ1581\n",
      "HST0084\n",
      "LRV1554\n",
      "KRC0098\n"
     ]
    },
    {
     "ename": "KeyboardInterrupt",
     "evalue": "",
     "output_type": "error",
     "traceback": [
      "\u001b[1;31m---------------------------------------------------------------------------\u001b[0m",
      "\u001b[1;31mKeyboardInterrupt\u001b[0m                         Traceback (most recent call last)",
      "Cell \u001b[1;32mIn[23], line 36\u001b[0m\n\u001b[0;32m     33\u001b[0m                 \u001b[38;5;28mprint\u001b[39m(user_id)\n\u001b[0;32m     34\u001b[0m     \u001b[38;5;28;01mreturn\u001b[39;00m other_pc_users\n\u001b[1;32m---> 36\u001b[0m \u001b[43mget_other_pc_users\u001b[49m\u001b[43m(\u001b[49m\u001b[38;5;124;43m'\u001b[39;49m\u001b[38;5;124;43mInsider threat dataset\u001b[39;49m\u001b[38;5;130;43;01m\\\\\u001b[39;49;00m\u001b[38;5;124;43mr5.2\u001b[39;49m\u001b[38;5;124;43m'\u001b[39;49m\u001b[43m)\u001b[49m\n",
      "Cell \u001b[1;32mIn[23], line 30\u001b[0m, in \u001b[0;36mget_other_pc_users\u001b[1;34m(dataset_path)\u001b[0m\n\u001b[0;32m     28\u001b[0m \u001b[38;5;28;01mfor\u001b[39;00m row \u001b[38;5;129;01min\u001b[39;00m reader:\n\u001b[0;32m     29\u001b[0m     user_id \u001b[38;5;241m=\u001b[39m row[\u001b[38;5;241m2\u001b[39m]\n\u001b[1;32m---> 30\u001b[0m     logon_data \u001b[38;5;241m=\u001b[39m \u001b[43mget_user_logon_data\u001b[49m\u001b[43m(\u001b[49m\u001b[43muser_id\u001b[49m\u001b[43m,\u001b[49m\u001b[43m \u001b[49m\u001b[43mdataset_path\u001b[49m\u001b[43m)\u001b[49m\n\u001b[0;32m     31\u001b[0m     \u001b[38;5;28;01mif\u001b[39;00m check_other_pc_login(logon_data):\n\u001b[0;32m     32\u001b[0m         other_pc_users\u001b[38;5;241m.\u001b[39madd(user_id)\n",
      "Cell \u001b[1;32mIn[23], line 5\u001b[0m, in \u001b[0;36mget_user_logon_data\u001b[1;34m(user_id, dataset_path)\u001b[0m\n\u001b[0;32m      3\u001b[0m \u001b[38;5;28;01mwith\u001b[39;00m \u001b[38;5;28mopen\u001b[39m(os\u001b[38;5;241m.\u001b[39mpath\u001b[38;5;241m.\u001b[39mjoin(dataset_path, \u001b[38;5;124m\"\u001b[39m\u001b[38;5;124mlogon.csv\u001b[39m\u001b[38;5;124m\"\u001b[39m), \u001b[38;5;124m\"\u001b[39m\u001b[38;5;124mr\u001b[39m\u001b[38;5;124m\"\u001b[39m) \u001b[38;5;28;01mas\u001b[39;00m csvfile:\n\u001b[0;32m      4\u001b[0m     reader \u001b[38;5;241m=\u001b[39m csv\u001b[38;5;241m.\u001b[39mreader(csvfile)\n\u001b[1;32m----> 5\u001b[0m     \u001b[38;5;28;01mfor\u001b[39;00m row \u001b[38;5;129;01min\u001b[39;00m reader:\n\u001b[0;32m      6\u001b[0m         \u001b[38;5;28;01mif\u001b[39;00m row[\u001b[38;5;241m2\u001b[39m] \u001b[38;5;241m==\u001b[39m user_id:\n\u001b[0;32m      7\u001b[0m             logon_data\u001b[38;5;241m.\u001b[39mappend(row)\n",
      "File \u001b[1;32mc:\\Users\\Admin\\.conda\\envs\\Cybersec_project\\lib\\codecs.py:319\u001b[0m, in \u001b[0;36mBufferedIncrementalDecoder.decode\u001b[1;34m(self, input, final)\u001b[0m\n\u001b[0;32m    314\u001b[0m \u001b[38;5;28;01mdef\u001b[39;00m \u001b[38;5;21m_buffer_decode\u001b[39m(\u001b[38;5;28mself\u001b[39m, \u001b[38;5;28minput\u001b[39m, errors, final):\n\u001b[0;32m    315\u001b[0m     \u001b[38;5;66;03m# Overwrite this method in subclasses: It must decode input\u001b[39;00m\n\u001b[0;32m    316\u001b[0m     \u001b[38;5;66;03m# and return an (output, length consumed) tuple\u001b[39;00m\n\u001b[0;32m    317\u001b[0m     \u001b[38;5;28;01mraise\u001b[39;00m \u001b[38;5;167;01mNotImplementedError\u001b[39;00m\n\u001b[1;32m--> 319\u001b[0m \u001b[38;5;28;01mdef\u001b[39;00m \u001b[38;5;21mdecode\u001b[39m(\u001b[38;5;28mself\u001b[39m, \u001b[38;5;28minput\u001b[39m, final\u001b[38;5;241m=\u001b[39m\u001b[38;5;28;01mFalse\u001b[39;00m):\n\u001b[0;32m    320\u001b[0m     \u001b[38;5;66;03m# decode input (taking the buffer into account)\u001b[39;00m\n\u001b[0;32m    321\u001b[0m     data \u001b[38;5;241m=\u001b[39m \u001b[38;5;28mself\u001b[39m\u001b[38;5;241m.\u001b[39mbuffer \u001b[38;5;241m+\u001b[39m \u001b[38;5;28minput\u001b[39m\n\u001b[0;32m    322\u001b[0m     (result, consumed) \u001b[38;5;241m=\u001b[39m \u001b[38;5;28mself\u001b[39m\u001b[38;5;241m.\u001b[39m_buffer_decode(data, \u001b[38;5;28mself\u001b[39m\u001b[38;5;241m.\u001b[39merrors, final)\n",
      "\u001b[1;31mKeyboardInterrupt\u001b[0m: "
     ]
    }
   ],
   "source": [
    "def get_user_logon_data(user_id, dataset_path):\n",
    "    logon_data = []\n",
    "    with open(os.path.join(dataset_path, \"logon.csv\"), \"r\") as csvfile:\n",
    "        reader = csv.reader(csvfile)\n",
    "        for row in reader:\n",
    "            if row[2] == user_id:\n",
    "                logon_data.append(row)\n",
    "    return logon_data\n",
    "\n",
    "def get_user_pc(logon_data):\n",
    "    pc_dict = {}\n",
    "    for row in logon_data:\n",
    "        pc_dict[row[3]] = 1 + pc_dict.get(row[3], 0)\n",
    "    user_pc = max(pc_dict, key=pc_dict.get)\n",
    "    return user_pc\n",
    "\n",
    "def check_other_pc_login(logon_data):\n",
    "    user_pc = get_user_pc(logon_data)\n",
    "    for row in logon_data:\n",
    "        if row[3] != user_pc:\n",
    "            return True\n",
    "    return False\n",
    "\n",
    "def get_other_pc_users(dataset_path):\n",
    "    other_pc_users = set()\n",
    "    with open(os.path.join(dataset_path, \"logon.csv\"), \"r\") as csvfile:\n",
    "        reader = csv.reader(csvfile)\n",
    "        for row in reader:\n",
    "            user_id = row[2]\n",
    "            logon_data = get_user_logon_data(user_id, dataset_path)\n",
    "            if check_other_pc_login(logon_data):\n",
    "                other_pc_users.add(user_id)\n",
    "                print(user_id)\n",
    "    return other_pc_users\n",
    "\n",
    "get_other_pc_users('Insider threat dataset\\\\r5.2')"
   ]
  },
  {
   "cell_type": "code",
   "execution_count": null,
   "metadata": {},
   "outputs": [],
   "source": []
  }
 ],
 "metadata": {
  "kernelspec": {
   "display_name": "Cybersec_project",
   "language": "python",
   "name": "python3"
  },
  "language_info": {
   "codemirror_mode": {
    "name": "ipython",
    "version": 3
   },
   "file_extension": ".py",
   "mimetype": "text/x-python",
   "name": "python",
   "nbconvert_exporter": "python",
   "pygments_lexer": "ipython3",
   "version": "3.8.20"
  }
 },
 "nbformat": 4,
 "nbformat_minor": 2
}
