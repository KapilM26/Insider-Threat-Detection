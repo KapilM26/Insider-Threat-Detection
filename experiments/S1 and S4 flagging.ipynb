{
 "cells": [
  {
   "cell_type": "code",
   "execution_count": 15,
   "metadata": {},
   "outputs": [
    {
     "name": "stderr",
     "output_type": "stream",
     "text": [
      "c:\\Users\\Admin\\.conda\\envs\\Cybersec_project\\lib\\site-packages\\fuzzywuzzy\\fuzz.py:11: UserWarning: Using slow pure-python SequenceMatcher. Install python-Levenshtein to remove this warning\n",
      "  warnings.warn('Using slow pure-python SequenceMatcher. Install python-Levenshtein to remove this warning')\n"
     ]
    }
   ],
   "source": [
    "import os\n",
    "import csv\n",
    "from fuzzywuzzy import fuzz\n"
   ]
  },
  {
   "cell_type": "code",
   "execution_count": 8,
   "metadata": {},
   "outputs": [],
   "source": [
    "malicious_domains = ['wikileaks']"
   ]
  },
  {
   "cell_type": "code",
   "execution_count": null,
   "metadata": {},
   "outputs": [],
   "source": [
    "def detect_malicious_users(dataset_path, malicious_domains):\n",
    "    malicious_users = set()\n",
    "    with open(os.path.join(dataset_path, \"http.csv\"), \"r\") as csvfile:\n",
    "        reader = csv.reader(csvfile)\n",
    "        for row in reader:\n",
    "            url = row[4]\n",
    "            for m in malicious_domains:\n",
    "                if m in url:\n",
    "                    user_id = row[2]\n",
    "                    malicious_users.add(user_id)\n",
    "                    break\n",
    "    return malicious_users\n",
    "\n",
    "# Usage\n",
    "malicious_users = detect_malicious_users('Insider threat dataset/r5.2', ['wikileaks'])\n"
   ]
  },
  {
   "cell_type": "markdown",
   "metadata": {},
   "source": [
    "## Email fuzzy match (shelved for now)"
   ]
  },
  {
   "cell_type": "code",
   "execution_count": 13,
   "metadata": {},
   "outputs": [
    {
     "name": "stdout",
     "output_type": "stream",
     "text": [
      "['id', 'date', 'user', 'pc', 'to', 'cc', 'bcc', 'from', 'activity', 'size', 'attachments', 'content']\n",
      "['{N9X0-P3SX99UT-3623QQUN}', '01/02/2010 06:49:35', 'KMC1934', 'PC-2683', 'Harding.Alden.Lester@dtaa.com;Ora.Clementine.Lester@dtaa.com', 'Remedios.Kylynn.Weaver@dtaa.com;Hamilton.Palmer.Cortez@dtaa.com', 'Karina.Melanie.Collins@dtaa.com', 'Karina.Melanie.Collins@dtaa.com', 'Send', '22578', '', 'lost six speculated individual theoren in ontario pink modeled speculated role most canadian thirty failed including represent shootout owners professional sonne proving around 108 run pled williamson per popular preceded']\n",
      "['{F5G8-U4KL36AB-1579CZGX}', '01/02/2010 06:50:35', 'KMC1934', 'PC-2683', 'Harding.Alden.Lester@dtaa.com;Ora.Clementine.Lester@dtaa.com', 'Remedios.Kylynn.Weaver@dtaa.com;Hamilton.Palmer.Cortez@dtaa.com', '', 'Karina.Melanie.Collins@dtaa.com', 'Receive', '22578', '', 'lost six speculated individual theoren in ontario pink modeled speculated role most canadian thirty failed including represent shootout owners professional sonne proving around 108 run pled williamson per popular preceded']\n",
      "['{U8D2-M5FH65BW-3939CQIC}', '01/02/2010 06:53:37', 'KMC1934', 'PC-2683', 'Griffith.Xenos.Miles@dtaa.com', 'Karina.Melanie.Collins@dtaa.com', '', 'Karina.Melanie.Collins@dtaa.com', 'Send', '34569', '', 'examples losing brookside erupted comeback unable varying hanna within syndicated 1964 hail 2 rapid landscape wkyc elements damaging relatively fifty firm combination reputation grow other tend law heaped mall fish character end metropolis ice until prestige 1936 e tradition contributor commonly 18 receive hired conducted brewing welcome tower portrayed lost independently council down left property carter route lighting defining']\n",
      "['{A5X6-X3KN62LU-5816QTBZ}', '01/02/2010 06:53:46', 'KMC1934', 'PC-2683', 'Mechelle.Nicole.Miles@dtaa.com', '', 'Karina.Melanie.Collins@dtaa.com', 'Karina.Melanie.Collins@dtaa.com', 'Send', '33953', '', 'coldest slowed 1989 being shootout marketing west theft brewing folding goods horror engagements nick number terminal central finals lower jane division officially non site g 1983 streets dealer established hub play areas differential rebound recipients within 1989 accolades institutions began historically press sherwin episode canal']\n",
      "['{Q8R5-A2WJ20NG-9108MVZX}', '01/02/2010 06:54:33', 'KMC1934', 'PC-2683', 'Mechelle.Nicole.Miles@dtaa.com', 'Karina.Melanie.Collins@dtaa.com', '', 'Karina.Melanie.Collins@dtaa.com', 'Send', '3116485', 'movie.jpg(330094);postmodern.pdf(1988252);athlete.doc(774956)', 'sixth former speed athlete annual automotive suburbanization 1982 metroparks north memorial worldwide islander north damaging postmodern intact sitcom spring 7 tribune strong assets distinction rocky grow comedy improved director leave movie 2012 controlling corp million literary future movie holiday hunter']\n"
     ]
    }
   ],
   "source": [
    "with open('Insider threat dataset/r5.2/email.csv', 'r') as csvfile:\n",
    "    reader = csv.reader(csvfile)\n",
    "    for i, row in enumerate(reader):\n",
    "        print(row)\n",
    "        if i==5:\n",
    "            break"
   ]
  },
  {
   "cell_type": "code",
   "execution_count": null,
   "metadata": {},
   "outputs": [],
   "source": [
    "# Function for fuzzy matching\n",
    "def is_self_email(sender, recipient, threshold=65):\n",
    "    return fuzz.ratio(sender.lower(), recipient.lower()) >= threshold\n",
    "\n",
    "# Function to flag emailing oneself clearly\n",
    "def flag_self_emailing(dataset_path, threshold=85):\n",
    "    flagged_users =set()\n",
    "    csv_filepath = os.path.join(dataset_path, 'email.csv')\n",
    "    with open(csv_filepath, newline='', encoding='utf-8') as csvfile:\n",
    "        reader = csv.reader(csvfile)\n",
    "        headers = next(reader)  # Skip header row explicitly\n",
    "\n",
    "        for row in reader:\n",
    "            sender = row[7].strip()\n",
    "            recipients = row[4].split(';') + row[5].split(';') + row[6].split(';')\n",
    "            recipients = [email.strip() for email in recipients if email.strip() != '']\n",
    "\n",
    "            sender_domain = sender.split('@')[-1]\n",
    "\n",
    "            for recipient in recipients:\n",
    "                recipient_domain = recipient.split('@')[-1]\n",
    "\n",
    "                # Only flag external (personal domain) matches\n",
    "                if recipient_domain != sender_domain:\n",
    "                    if is_self_email(sender.split('@')[0], recipient.split('@')[0], threshold):\n",
    "                        print(f\"Flagged: {sender} -> {recipient}\")\n",
    "                        flagged_users.add(row[2])\n",
    "\n",
    "    return flagged_users\n",
    "\n",
    "# Usage (clearly):\n",
    "dataset_path = 'Insider threat dataset\\\\r5.2'\n",
    "results = flag_self_emailing(dataset_path)\n"
   ]
  },
  {
   "cell_type": "code",
   "execution_count": null,
   "metadata": {},
   "outputs": [],
   "source": [
    "answers_path = 'Insider threat dataset\\\\answers\\\\r5.2-4' \n",
    "for f in os.listdir(answers_path):\n",
    "    with open(os.path.join(answers_path, f), 'r') as csvfile:\n",
    "        reader = csv.reader(csvfile)\n",
    "        for row in reader:\n",
    "            if row[0]=='email':\n",
    "                sender = row[8].strip()\n",
    "                recipients = row[5].split(';') + row[6].split(';') + row[7].split(';')\n",
    "                recipients = [email.strip() for email in recipients if email.strip() != '']\n",
    "                for recipient in recipients:\n",
    "                    r = fuzz.ratio(sender.split('@')[0], recipient.split('@')[0])\n",
    "                    print(f\"{sender} -> {recipient}, {r}\")\n",
    "            \n"
   ]
  },
  {
   "cell_type": "markdown",
   "metadata": {},
   "source": [
    "# other PC login"
   ]
  },
  {
   "cell_type": "code",
   "execution_count": null,
   "metadata": {},
   "outputs": [],
   "source": [
    "def get_user_logon_data(user_id, dataset_path):\n",
    "    logon_data = []\n",
    "    with open(os.path.join(dataset_path, \"logon.csv\"), \"r\") as csvfile:\n",
    "        reader = csv.reader(csvfile)\n",
    "        for row in reader:\n",
    "            if row[2] == user_id:\n",
    "                logon_data.append(row)\n",
    "    return logon_data\n",
    "\n",
    "def get_user_pc(logon_data):\n",
    "    pc_dict = {}\n",
    "    for row in logon_data:\n",
    "        pc_dict[row[3]] = 1 + pc_dict.get(row[3], 0)\n",
    "    user_pc = max(pc_dict, key=pc_dict.get)\n",
    "    return user_pc\n",
    "\n",
    "def check_other_pc_login(logon_data):\n",
    "    user_pc = get_user_pc(logon_data)\n",
    "    for row in logon_data:\n",
    "        if row[3] != user_pc:\n",
    "            return True\n",
    "    return False\n",
    "\n",
    "def get_other_pc_users(dataset_path):\n",
    "    other_pc_users = set()\n",
    "    with open(os.path.join(dataset_path, \"logon.csv\"), \"r\") as csvfile:\n",
    "        reader = csv.reader(csvfile)\n",
    "        for row in reader:\n",
    "            user_id = row[2]\n",
    "            logon_data = get_user_logon_data(user_id, dataset_path)\n",
    "            if check_other_pc_login(logon_data):\n",
    "                other_pc_users.add(user_id)\n",
    "    return other_pc_users\n",
    "\n",
    "get_other_pc_users('Insider threat dataset\\\\r5.2')"
   ]
  },
  {
   "cell_type": "code",
   "execution_count": null,
   "metadata": {},
   "outputs": [],
   "source": []
  }
 ],
 "metadata": {
  "kernelspec": {
   "display_name": "Cybersec_project",
   "language": "python",
   "name": "python3"
  },
  "language_info": {
   "codemirror_mode": {
    "name": "ipython",
    "version": 3
   },
   "file_extension": ".py",
   "mimetype": "text/x-python",
   "name": "python",
   "nbconvert_exporter": "python",
   "pygments_lexer": "ipython3",
   "version": "3.8.20"
  }
 },
 "nbformat": 4,
 "nbformat_minor": 2
}
